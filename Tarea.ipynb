{
  "nbformat": 4,
  "nbformat_minor": 0,
  "metadata": {
    "colab": {
      "provenance": [],
      "authorship_tag": "ABX9TyOFIvqiDYp5teQAABWFG1jf",
      "include_colab_link": true
    },
    "kernelspec": {
      "name": "python3",
      "display_name": "Python 3"
    },
    "language_info": {
      "name": "python"
    }
  },
  "cells": [
    {
      "cell_type": "markdown",
      "metadata": {
        "id": "view-in-github",
        "colab_type": "text"
      },
      "source": [
        "<a href=\"https://colab.research.google.com/github/TattuX/Estructura_de_Datos_Actividad/blob/main/Tarea.ipynb\" target=\"_parent\"><img src=\"https://colab.research.google.com/assets/colab-badge.svg\" alt=\"Open In Colab\"/></a>"
      ]
    },
    {
      "cell_type": "code",
      "execution_count": null,
      "metadata": {
        "id": "dgmWpnshclex",
        "colab": {
          "base_uri": "https://localhost:8080/"
        },
        "outputId": "0ac4aff0-3d8c-4eeb-943e-951b0632c8e5"
      },
      "outputs": [
        {
          "output_type": "stream",
          "name": "stdout",
          "text": [
            "Probando componentes\n",
            "La 5600XT 2400MHz está Encendida.\n",
            "La 5600XT 2400MHz está apagada verificar conexion\n",
            "Probando componentes\n",
            "La omkara 10'000'000 de pulsaciones está Encendida.\n",
            "La omkara 10'000'000 de pulsaciones está apagada verificar conexion\n",
            "El teclado omkara 10'000'000 de pulsaciones Se siente bien al escribir ya que su marca es Omkara.\n",
            "Probando componentes\n",
            "La RX 5700 XT 3000MHz está Encendida.\n",
            "La RX 5700 XT 3000MHz está apagada verificar conexion\n",
            "El socket que utiliza la RX 5700 XT tiene 3000MHz y su procesador es AMD\n"
          ]
        }
      ],
      "source": [
        "class Board:\n",
        "    def __init__(self, Gpu, Memorias_RAM, voltage):\n",
        "      self.Gpu = Gpu\n",
        "      self.Memorias_RAM = Memorias_RAM\n",
        "      self.voltage = voltage\n",
        "\n",
        "    def Encender(self):\n",
        "      return f\"La {self.Gpu} {self.Memorias_RAM} está Encendida.\"\n",
        "\n",
        "    def Apagar(self):\n",
        "      return f\"La {self.Gpu} {self.Memorias_RAM} está apagada verificar conexion\"\n",
        "\n",
        "      #Sub clase_1\n",
        "\n",
        "class  Tarjeta_de_video(Board):\n",
        "\n",
        "    def __init__(self, Gpu, Memorias_RAM, voltage, Marca):\n",
        "       super().__init__(Gpu, Memorias_RAM, voltage)\n",
        "       self.Marca = Marca\n",
        "\n",
        "    def Reconocimiento_De_Coneccion(self):\n",
        "      return f\"La gpu {self.Gpu} {self.Memorias_RAM} Se encuentra conectada.\"\n",
        "\n",
        "      #Sub clase_2\n",
        "\n",
        "class Socket(Board):\n",
        "\n",
        "    def __init__(self, Gpu, Memorias_RAM, voltage,Procesador):\n",
        "       super().__init__(Gpu, Memorias_RAM, voltage)\n",
        "       if Procesador == \"AMD\":\n",
        "        self.Procesador = Procesador\n",
        "       else:\n",
        "        raise ValueError (\"Solo se admiten procesadores AMD\")\n",
        "\n",
        "    def Informacion_socket(self):\n",
        "      return f\"El socket que utiliza la {self.Gpu} tiene {self.Memorias_RAM} y su procesador es {self.Procesador}\"\n",
        "\n",
        "      #Sub_clase_3\n",
        "\n",
        "class Perifericos(Board):\n",
        "\n",
        "    def __init__(self, Gpu, Memorias_RAM, voltage, Modelo):\n",
        "       super().__init__(Gpu, Memorias_RAM, voltage)\n",
        "       self.Modelo=Modelo\n",
        "\n",
        "    def Teclado_mecanico(self):\n",
        "       return f\"El teclado {self.Gpu} {self.Memorias_RAM} Se siente bien al escribir ya que su marca es {self.Modelo}.\"\n",
        "\n",
        "\n",
        "def probar_PC(board):\n",
        "  print(\"Probando componentes\")\n",
        "  print(board.Encender())\n",
        "  print(board.Apagar())\n",
        "  if isinstance(board, Perifericos):\n",
        "        print(board.Teclado_mecanico())\n",
        "  elif isinstance(board, Socket):\n",
        "        print(board.Informacion_socket())\n",
        "\n",
        "Video = Tarjeta_de_video(\"5600XT\", \"2400MHz\", 1130, \"Radeon\")\n",
        "Periferico = Perifericos(\"omkara\", \"10'000'000 de pulsaciones\",\"5 voltios\", \"Omkara\")\n",
        "Socket_AMD = Socket(\"RX 5700 XT\", \"3000MHz\", 1050, \"AMD\")\n",
        "\n",
        "probar_PC(Video)\n",
        "probar_PC(Periferico)\n",
        "probar_PC(Socket_AMD)\n",
        "\n",
        "\n"
      ]
    },
    {
      "cell_type": "code",
      "source": [
        "datos = []\n",
        "\n",
        "for i in range(10):\n",
        "  dato = input(f\"ingresal el numero {i+1}: \")\n",
        "  datos.append(dato)\n",
        "\n",
        "posiciones = [2,4,7,10]\n",
        "for posicion in posiciones:\n",
        "  print(f\"\\nCambiar numeros en las posiciones {posiciones}: \")\n",
        "  nuevo_numero = input(\"Ingresar nuevo numero a cambiar: \")\n",
        "\n",
        "  datos[posicion-1]=nuevo_numero\n",
        "\n",
        "print(\"\\nDatos corregidos: \")\n",
        "\n",
        "for i, dato in enumerate(datos):\n",
        "  print(f\"{i+1} {dato}\")\n",
        "\n",
        "\n",
        "\n"
      ],
      "metadata": {
        "colab": {
          "base_uri": "https://localhost:8080/"
        },
        "id": "9QkEU7Mdk3ke",
        "outputId": "c1313dee-7cc4-4124-e47a-deeba683e7cf"
      },
      "execution_count": null,
      "outputs": [
        {
          "output_type": "stream",
          "name": "stdout",
          "text": [
            "ingresal el numero 1: 10\n",
            "ingresal el numero 2: 20\n",
            "ingresal el numero 3: 30\n",
            "ingresal el numero 4: 40\n",
            "ingresal el numero 5: 50\n",
            "ingresal el numero 6: 60\n",
            "ingresal el numero 7: 70\n",
            "ingresal el numero 8: 80\n",
            "ingresal el numero 9: 90\n",
            "ingresal el numero 10: 100\n",
            "\n",
            "Cambiar numeros en las posiciones [2, 4, 7, 10]: \n",
            "Ingresar nuevo numero a cambiar: 5\n",
            "\n",
            "Cambiar numeros en las posiciones [2, 4, 7, 10]: \n",
            "Ingresar nuevo numero a cambiar: 6\n",
            "\n",
            "Cambiar numeros en las posiciones [2, 4, 7, 10]: \n",
            "Ingresar nuevo numero a cambiar: 30\n",
            "\n",
            "Cambiar numeros en las posiciones [2, 4, 7, 10]: \n",
            "Ingresar nuevo numero a cambiar: 55\n",
            "\n",
            "Datos corregidos: \n",
            "1 10\n",
            "2 5\n",
            "3 30\n",
            "4 6\n",
            "5 50\n",
            "6 60\n",
            "7 30\n",
            "8 80\n",
            "9 90\n",
            "10 55\n"
          ]
        }
      ]
    }
  ]
}