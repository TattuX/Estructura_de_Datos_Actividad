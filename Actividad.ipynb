{
  "nbformat": 4,
  "nbformat_minor": 0,
  "metadata": {
    "colab": {
      "provenance": [],
      "authorship_tag": "ABX9TyMdi3Gy6JEd/KCAs5p2JvSN",
      "include_colab_link": true
    },
    "kernelspec": {
      "name": "python3",
      "display_name": "Python 3"
    },
    "language_info": {
      "name": "python"
    }
  },
  "cells": [
    {
      "cell_type": "markdown",
      "metadata": {
        "id": "view-in-github",
        "colab_type": "text"
      },
      "source": [
        "<a href=\"https://colab.research.google.com/github/TattuX/Estructura_de_Datos_Actividad/blob/main/Actividad.ipynb\" target=\"_parent\"><img src=\"https://colab.research.google.com/assets/colab-badge.svg\" alt=\"Open In Colab\"/></a>"
      ]
    },
    {
      "cell_type": "code",
      "execution_count": null,
      "metadata": {
        "colab": {
          "base_uri": "https://localhost:8080/"
        },
        "id": "iAvWmyspisYH",
        "outputId": "565ca1b0-775a-45dc-a054-141771131eb3"
      },
      "outputs": [
        {
          "output_type": "stream",
          "name": "stdout",
          "text": [
            "('apple', 'banana', 'cherry', 'date', 'fig', 'grape')\n",
            "6\n"
          ]
        }
      ],
      "source": [
        "#Ejercicio_1\n",
        "# Crea una tupla con los siguientes elementos: \"apple\", \"banana\", \"cherry\", \"date\", \"fig\", \"grape\". Imprime la tupla y el número de elementos que contiene.\n",
        "\n",
        "Tupla_1 = (\"apple\", \"banana\", \"cherry\", \"date\", \"fig\", \"grape\")\n",
        "\n",
        "print(Tupla_1)\n",
        "\n",
        "print(len(Tupla_1))\n",
        "\n"
      ]
    },
    {
      "cell_type": "code",
      "source": [
        "#Ejercicio_2\n",
        "#Dada la tupla fruits = (\"apple\", \"banana\", \"cherry\", \"date\", \"fig\", \"grape\"), accede e imprime el tercer elemento de la tupla.\n",
        "\n",
        "Tupla_1[2]"
      ],
      "metadata": {
        "colab": {
          "base_uri": "https://localhost:8080/",
          "height": 35
        },
        "id": "yf_WQp0EiylJ",
        "outputId": "5cf1659d-aa8e-4177-e82e-de075dfb6681"
      },
      "execution_count": null,
      "outputs": [
        {
          "output_type": "execute_result",
          "data": {
            "text/plain": [
              "'cherry'"
            ],
            "application/vnd.google.colaboratory.intrinsic+json": {
              "type": "string"
            }
          },
          "metadata": {},
          "execution_count": 36
        }
      ]
    },
    {
      "cell_type": "code",
      "source": [
        "#Ejercicio_3\n",
        "# Dada la tupla colors = (\"red\", \"green\", \"blue\"), desempaqueta sus valores en tres variables y luego imprime cada variable.\n",
        "\n",
        "colors = (\"red\", \"green\", \"blue\")\n",
        "\n",
        "rojo,verde,azul = colors\n",
        "\n",
        "print(\"Valor de rojo\",rojo)\n",
        "print(\"valor de verde\",verde)\n",
        "print(\"valor de azul\",azul)"
      ],
      "metadata": {
        "colab": {
          "base_uri": "https://localhost:8080/"
        },
        "id": "Fw8JP8CpoUyd",
        "outputId": "89e21702-f504-440a-9368-7cd08dedaceb"
      },
      "execution_count": null,
      "outputs": [
        {
          "output_type": "stream",
          "name": "stdout",
          "text": [
            "Valor de rojo red\n",
            "valor de verde green\n",
            "valor de azul blue\n"
          ]
        }
      ]
    },
    {
      "cell_type": "code",
      "source": [
        "#Ejercicio_4\n",
        "#Crea dos tuplas, una con los números (1, 2, 3) y otra con los números (4, 5, 6). Concatenálas en una sola tupla y muestra el resultado\n",
        "\n",
        "numero_1=(1,2,3)\n",
        "numero_2=(4,5,6)\n",
        "\n",
        "numero_1 + numero_2"
      ],
      "metadata": {
        "colab": {
          "base_uri": "https://localhost:8080/"
        },
        "id": "DsIfJgItp-wJ",
        "outputId": "57bc72ac-e9a5-4840-9a46-28343bf663b4"
      },
      "execution_count": null,
      "outputs": [
        {
          "output_type": "execute_result",
          "data": {
            "text/plain": [
              "(1, 2, 3, 4, 5, 6)"
            ]
          },
          "metadata": {},
          "execution_count": 42
        }
      ]
    },
    {
      "cell_type": "code",
      "source": [
        "#Ejercicio_5\n",
        "# Crea una tupla con el elemento \"repeat\" y repítela 4 veces. Imprime el resultado.\n",
        "\n",
        "T1= (122,1501,1107,308)\n",
        "\n",
        "T1 * 4\n",
        "\n",
        "\n"
      ],
      "metadata": {
        "colab": {
          "base_uri": "https://localhost:8080/"
        },
        "id": "YXN8RFB_qSIq",
        "outputId": "7e4dacaf-177c-41f0-ed13-a147dcf11c30"
      },
      "execution_count": null,
      "outputs": [
        {
          "output_type": "execute_result",
          "data": {
            "text/plain": [
              "(122,\n",
              " 1501,\n",
              " 1107,\n",
              " 308,\n",
              " 122,\n",
              " 1501,\n",
              " 1107,\n",
              " 308,\n",
              " 122,\n",
              " 1501,\n",
              " 1107,\n",
              " 308,\n",
              " 122,\n",
              " 1501,\n",
              " 1107,\n",
              " 308)"
            ]
          },
          "metadata": {},
          "execution_count": 55
        }
      ]
    },
    {
      "cell_type": "code",
      "source": [
        "type(T1)"
      ],
      "metadata": {
        "colab": {
          "base_uri": "https://localhost:8080/"
        },
        "id": "1NIrgfdKr-zH",
        "outputId": "7ed71092-cc61-4855-c415-6f96bd6f4f4a"
      },
      "execution_count": null,
      "outputs": [
        {
          "output_type": "execute_result",
          "data": {
            "text/plain": [
              "tuple"
            ]
          },
          "metadata": {},
          "execution_count": 56
        }
      ]
    },
    {
      "cell_type": "code",
      "source": [
        "#Ejercicio_6\n",
        "#Dada la tupla numbers = (10, 20, 30, 40, 50), utiliza un bucle for para iterar sobre la tupla e imprimir cada número.\n",
        "\n",
        "numbers = (10, 20, 30, 40, 50)\n",
        "\n",
        "for n in numbers:\n",
        "  print(n)"
      ],
      "metadata": {
        "colab": {
          "base_uri": "https://localhost:8080/"
        },
        "id": "FuCkXaixs5RM",
        "outputId": "f2d601b8-2d72-423b-dd4f-999a669598d7"
      },
      "execution_count": null,
      "outputs": [
        {
          "output_type": "stream",
          "name": "stdout",
          "text": [
            "10\n",
            "20\n",
            "30\n",
            "40\n",
            "50\n"
          ]
        }
      ]
    },
    {
      "cell_type": "code",
      "source": [
        "#Ejercicio_7\n",
        "#Crea una tupla que contenga otras dos tuplas: tuple1 = (1, 2, 3) y tuple2 = (\"a\", \"b\", \"c\"). Imprime la tupla anidada.\n",
        "\n",
        "tuple1 = (1, 2, 3)\n",
        "tuple2 = (\"a\", \"b\", \"c\")\n",
        "\n",
        "Anidada=(tuple1, tuple2)\n",
        "\n",
        "print(Anidada)\n"
      ],
      "metadata": {
        "colab": {
          "base_uri": "https://localhost:8080/"
        },
        "id": "Un2QZb5KtPwj",
        "outputId": "84cf16d2-6266-470e-fd2c-f5f94d9b2d7b"
      },
      "execution_count": 3,
      "outputs": [
        {
          "output_type": "stream",
          "name": "stdout",
          "text": [
            "((1, 2, 3), ('a', 'b', 'c'))\n"
          ]
        },
        {
          "output_type": "execute_result",
          "data": {
            "text/plain": [
              "tuple"
            ]
          },
          "metadata": {},
          "execution_count": 3
        }
      ]
    },
    {
      "cell_type": "code",
      "source": [
        "#Ejercicio_8\n",
        "#Dada la tupla letters = (\"a\", \"b\", \"c\", \"d\"), verifica si la letra \"e\" está en la tupla e imprime un mensaje apropiado.\n",
        "\n",
        "letters = (\"a\", \"b\", \"c\", \"d\")\n",
        "\n",
        "if \"e\" in letters:\n",
        "  print(\"La letra 'e' esta dentro de la tupla\")\n",
        "else:\n",
        "  print(\"La letra 'e' no esta dentro de la tupla\")\n"
      ],
      "metadata": {
        "colab": {
          "base_uri": "https://localhost:8080/"
        },
        "id": "xf4tJTLLLXj6",
        "outputId": "b0b7c2ce-a439-4282-9f3e-539f25502127"
      },
      "execution_count": 5,
      "outputs": [
        {
          "output_type": "stream",
          "name": "stdout",
          "text": [
            "La letra 'e' no esta dentro de la tupla\n"
          ]
        }
      ]
    },
    {
      "cell_type": "code",
      "source": [
        "#Ejercicio_9\n",
        "# Convierte la lista my_list = [100, 200, 300, 400] a una tupla e imprime la tupla resultante.\n",
        "\n",
        "my_list = [100, 200, 300, 400]\n",
        "\n",
        "tuple(my_list)\n",
        "\n"
      ],
      "metadata": {
        "colab": {
          "base_uri": "https://localhost:8080/"
        },
        "id": "T6jW6B6eU8fk",
        "outputId": "3f29c2d0-9931-409c-951f-c38638046dd9"
      },
      "execution_count": 13,
      "outputs": [
        {
          "output_type": "execute_result",
          "data": {
            "text/plain": [
              "(100, 200, 300, 400)"
            ]
          },
          "metadata": {},
          "execution_count": 13
        }
      ]
    },
    {
      "cell_type": "code",
      "source": [
        "#Ejercicio_10\n",
        "\n",
        "#Dada la tupla my_tuple = (5, 10, 15, 20, 25, 30, 35), imprime el valor en el índice 2 y una sub-tupla que contenga los elementos desde el índice 1 hasta el 4.\n",
        "\n",
        "my_tuple = (5, 10, 15, 20, 25, 30, 35)\n",
        "\n",
        "print(my_tuple[2])\n",
        "\n",
        "print(my_tuple[1:5])\n"
      ],
      "metadata": {
        "colab": {
          "base_uri": "https://localhost:8080/"
        },
        "id": "IhgOJt3iVza2",
        "outputId": "fec71714-3e7f-431f-91ed-33e27ce34ace"
      },
      "execution_count": 17,
      "outputs": [
        {
          "output_type": "stream",
          "name": "stdout",
          "text": [
            "15\n",
            "(10, 15, 20, 25)\n"
          ]
        }
      ]
    }
  ]
}